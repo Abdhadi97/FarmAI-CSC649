{
 "cells": [
  {
   "cell_type": "code",
   "execution_count": 238,
   "id": "796b1ac0",
   "metadata": {},
   "outputs": [
    {
     "data": {
      "text/html": [
       "<div>\n",
       "<style scoped>\n",
       "    .dataframe tbody tr th:only-of-type {\n",
       "        vertical-align: middle;\n",
       "    }\n",
       "\n",
       "    .dataframe tbody tr th {\n",
       "        vertical-align: top;\n",
       "    }\n",
       "\n",
       "    .dataframe thead th {\n",
       "        text-align: right;\n",
       "    }\n",
       "</style>\n",
       "<table border=\"1\" class=\"dataframe\">\n",
       "  <thead>\n",
       "    <tr style=\"text-align: right;\">\n",
       "      <th></th>\n",
       "      <th>Temparature</th>\n",
       "      <th>Humidity</th>\n",
       "      <th>Moisture</th>\n",
       "      <th>Soil Type</th>\n",
       "      <th>Crop Type</th>\n",
       "      <th>Nitrogen</th>\n",
       "      <th>Potassium</th>\n",
       "      <th>Phosphorous</th>\n",
       "      <th>Fertilizer Name</th>\n",
       "    </tr>\n",
       "  </thead>\n",
       "  <tbody>\n",
       "    <tr>\n",
       "      <th>0</th>\n",
       "      <td>26</td>\n",
       "      <td>52</td>\n",
       "      <td>38</td>\n",
       "      <td>Sandy</td>\n",
       "      <td>Maize</td>\n",
       "      <td>37</td>\n",
       "      <td>0</td>\n",
       "      <td>0</td>\n",
       "      <td>Urea</td>\n",
       "    </tr>\n",
       "    <tr>\n",
       "      <th>1</th>\n",
       "      <td>29</td>\n",
       "      <td>52</td>\n",
       "      <td>45</td>\n",
       "      <td>Loamy</td>\n",
       "      <td>Sugarcane</td>\n",
       "      <td>12</td>\n",
       "      <td>0</td>\n",
       "      <td>36</td>\n",
       "      <td>DAP</td>\n",
       "    </tr>\n",
       "    <tr>\n",
       "      <th>2</th>\n",
       "      <td>34</td>\n",
       "      <td>65</td>\n",
       "      <td>62</td>\n",
       "      <td>Black</td>\n",
       "      <td>Cotton</td>\n",
       "      <td>7</td>\n",
       "      <td>9</td>\n",
       "      <td>30</td>\n",
       "      <td>14-35-14</td>\n",
       "    </tr>\n",
       "    <tr>\n",
       "      <th>3</th>\n",
       "      <td>32</td>\n",
       "      <td>62</td>\n",
       "      <td>34</td>\n",
       "      <td>Red</td>\n",
       "      <td>Tobacco</td>\n",
       "      <td>22</td>\n",
       "      <td>0</td>\n",
       "      <td>20</td>\n",
       "      <td>28-28</td>\n",
       "    </tr>\n",
       "    <tr>\n",
       "      <th>4</th>\n",
       "      <td>28</td>\n",
       "      <td>54</td>\n",
       "      <td>46</td>\n",
       "      <td>Clayey</td>\n",
       "      <td>Paddy</td>\n",
       "      <td>35</td>\n",
       "      <td>0</td>\n",
       "      <td>0</td>\n",
       "      <td>Urea</td>\n",
       "    </tr>\n",
       "    <tr>\n",
       "      <th>...</th>\n",
       "      <td>...</td>\n",
       "      <td>...</td>\n",
       "      <td>...</td>\n",
       "      <td>...</td>\n",
       "      <td>...</td>\n",
       "      <td>...</td>\n",
       "      <td>...</td>\n",
       "      <td>...</td>\n",
       "      <td>...</td>\n",
       "    </tr>\n",
       "    <tr>\n",
       "      <th>94</th>\n",
       "      <td>25</td>\n",
       "      <td>50</td>\n",
       "      <td>32</td>\n",
       "      <td>Clayey</td>\n",
       "      <td>Pulses</td>\n",
       "      <td>24</td>\n",
       "      <td>0</td>\n",
       "      <td>19</td>\n",
       "      <td>28-28</td>\n",
       "    </tr>\n",
       "    <tr>\n",
       "      <th>95</th>\n",
       "      <td>30</td>\n",
       "      <td>60</td>\n",
       "      <td>27</td>\n",
       "      <td>Red</td>\n",
       "      <td>Tobacco</td>\n",
       "      <td>4</td>\n",
       "      <td>17</td>\n",
       "      <td>17</td>\n",
       "      <td>10-26-26</td>\n",
       "    </tr>\n",
       "    <tr>\n",
       "      <th>96</th>\n",
       "      <td>38</td>\n",
       "      <td>72</td>\n",
       "      <td>51</td>\n",
       "      <td>Loamy</td>\n",
       "      <td>Wheat</td>\n",
       "      <td>39</td>\n",
       "      <td>0</td>\n",
       "      <td>0</td>\n",
       "      <td>Urea</td>\n",
       "    </tr>\n",
       "    <tr>\n",
       "      <th>97</th>\n",
       "      <td>36</td>\n",
       "      <td>60</td>\n",
       "      <td>43</td>\n",
       "      <td>Sandy</td>\n",
       "      <td>Millets</td>\n",
       "      <td>15</td>\n",
       "      <td>0</td>\n",
       "      <td>41</td>\n",
       "      <td>DAP</td>\n",
       "    </tr>\n",
       "    <tr>\n",
       "      <th>98</th>\n",
       "      <td>29</td>\n",
       "      <td>58</td>\n",
       "      <td>57</td>\n",
       "      <td>Black</td>\n",
       "      <td>Sugarcane</td>\n",
       "      <td>12</td>\n",
       "      <td>0</td>\n",
       "      <td>10</td>\n",
       "      <td>20-20</td>\n",
       "    </tr>\n",
       "  </tbody>\n",
       "</table>\n",
       "<p>99 rows × 9 columns</p>\n",
       "</div>"
      ],
      "text/plain": [
       "    Temparature  Humidity   Moisture Soil Type  Crop Type  Nitrogen  \\\n",
       "0            26         52        38     Sandy      Maize        37   \n",
       "1            29         52        45     Loamy  Sugarcane        12   \n",
       "2            34         65        62     Black     Cotton         7   \n",
       "3            32         62        34       Red    Tobacco        22   \n",
       "4            28         54        46    Clayey      Paddy        35   \n",
       "..          ...        ...       ...       ...        ...       ...   \n",
       "94           25         50        32    Clayey     Pulses        24   \n",
       "95           30         60        27       Red    Tobacco         4   \n",
       "96           38         72        51     Loamy      Wheat        39   \n",
       "97           36         60        43     Sandy    Millets        15   \n",
       "98           29         58        57     Black  Sugarcane        12   \n",
       "\n",
       "    Potassium  Phosphorous Fertilizer Name  \n",
       "0           0            0            Urea  \n",
       "1           0           36             DAP  \n",
       "2           9           30        14-35-14  \n",
       "3           0           20           28-28  \n",
       "4           0            0            Urea  \n",
       "..        ...          ...             ...  \n",
       "94          0           19           28-28  \n",
       "95         17           17        10-26-26  \n",
       "96          0            0            Urea  \n",
       "97          0           41             DAP  \n",
       "98          0           10           20-20  \n",
       "\n",
       "[99 rows x 9 columns]"
      ]
     },
     "execution_count": 238,
     "metadata": {},
     "output_type": "execute_result"
    }
   ],
   "source": [
    "import pandas as pd\n",
    "from sklearn.svm import SVC\n",
    "from sklearn.metrics import classification_report, confusion_matrix\n",
    "\n",
    "# Read datasets\n",
    "dataset = pd.read_csv('Fertilizer Prediction.csv')\n",
    "\n",
    "dataset\n"
   ]
  },
  {
   "cell_type": "code",
   "execution_count": 239,
   "id": "c91d5f9a",
   "metadata": {},
   "outputs": [],
   "source": [
    "# Extract features and target labels\n",
    "datainput = dataset.drop(['Soil Type', 'Crop Type', 'Fertilizer Name'], axis=1)\n",
    "\n",
    "datatarget = dataset['Fertilizer Name']\n",
    "\n",
    "datatarget\n",
    "\n",
    "datainput_training1 = datainput.drop(datainput.index[range(1,19)])\n",
    "datatarget_training1 = datatarget.drop(datainput.index[range(1,19)])\n",
    "datainput_testing1 = datainput[1:19]\n",
    "datatarget_testing1 = datatarget[1:19]"
   ]
  },
  {
   "cell_type": "markdown",
   "id": "196396c2",
   "metadata": {},
   "source": [
    "# KNN1"
   ]
  },
  {
   "cell_type": "code",
   "execution_count": 240,
   "id": "942c2953",
   "metadata": {},
   "outputs": [
    {
     "name": "stdout",
     "output_type": "stream",
     "text": [
      "Accuracy Score of 10 KNN:  0.8333333333333334\n",
      "Accuracy Score of 20 KNN:  0.7777777777777778\n",
      "Accuracy Score of 30 KNN:  0.7222222222222222\n"
     ]
    }
   ],
   "source": [
    "from sklearn.neighbors import KNeighborsClassifier\n",
    "from sklearn.metrics import accuracy_score\n",
    "\n",
    "knn_10 = KNeighborsClassifier(n_neighbors = 10)\n",
    "knn_10.fit(datainput_training1, datatarget_training1)\n",
    "output_predicted10 = knn_10.predict (datainput_testing1)\n",
    "accuracy_10 = accuracy_score(datatarget_testing1,output_predicted10)\n",
    "print(\"Accuracy Score of 10 KNN: \",accuracy_10)\n",
    "\n",
    "knn_20 = KNeighborsClassifier(n_neighbors = 20)\n",
    "knn_20.fit(datainput_training1, datatarget_training1)\n",
    "output_predicted20 = knn_20.predict (datainput_testing1)\n",
    "accuracy_20 = accuracy_score(datatarget_testing1,output_predicted20)\n",
    "print(\"Accuracy Score of 20 KNN: \",accuracy_20)\n",
    "\n",
    "knn_30 = KNeighborsClassifier(n_neighbors = 30)\n",
    "knn_30.fit(datainput_training1, datatarget_training1)\n",
    "output_predicted30 = knn_30.predict (datainput_testing1)\n",
    "accuracy_30 = accuracy_score(datatarget_testing1,output_predicted30)\n",
    "print(\"Accuracy Score of 30 KNN: \",accuracy_30)\n"
   ]
  },
  {
   "cell_type": "markdown",
   "id": "d403c487",
   "metadata": {},
   "source": [
    "# SVM1"
   ]
  },
  {
   "cell_type": "code",
   "execution_count": 241,
   "id": "0036c469",
   "metadata": {},
   "outputs": [
    {
     "name": "stdout",
     "output_type": "stream",
     "text": [
      "Accuracy Score of Sigmoid 0.2777777777777778\n",
      "Accuracy Score of Linear 1.0\n",
      "Accuracy Score of Poly 1.0\n",
      "Accuracy Score of RBF 0.8333333333333334\n"
     ]
    }
   ],
   "source": [
    "from sklearn.svm import SVC\n",
    "\n",
    "svclassifierSig = SVC(kernel='sigmoid')\n",
    "svclassifierSig.fit(datainput_training1, datatarget_training1)\n",
    "output_predicted1 = svclassifierSig.predict(datainput_testing1)\n",
    "accuracy_Sig = accuracy_score(datatarget_testing1,output_predicted1)\n",
    "print(\"Accuracy Score of Sigmoid\", accuracy_Sig)\n",
    "\n",
    "svclassifierLin = SVC(kernel='linear')\n",
    "svclassifierLin.fit(datainput_training1, datatarget_training1)\n",
    "output_predicted1 = svclassifierLin.predict(datainput_testing1)\n",
    "accuracy_Lin = accuracy_score(datatarget_testing1,output_predicted1)\n",
    "print(\"Accuracy Score of Linear\", accuracy_Lin)\n",
    "\n",
    "svclassifierPol = SVC(kernel='poly')\n",
    "svclassifierPol.fit(datainput_training1, datatarget_training1)\n",
    "output_predicted1 = svclassifierPol.predict(datainput_testing1)\n",
    "accuracy_Pol = accuracy_score(datatarget_testing1,output_predicted1)\n",
    "print(\"Accuracy Score of Poly\", accuracy_Pol)\n",
    "\n",
    "svclassifierRbf = SVC(kernel='rbf')\n",
    "svclassifierRbf.fit(datainput_training1, datatarget_training1)\n",
    "output_predicted1 = svclassifierRbf.predict(datainput_testing1)\n",
    "accuracy_Rbf = accuracy_score(datatarget_testing1,output_predicted1)\n",
    "print(\"Accuracy Score of RBF\", accuracy_Rbf)\n"
   ]
  },
  {
   "cell_type": "markdown",
   "id": "19f6ee78",
   "metadata": {},
   "source": [
    "# RF1"
   ]
  },
  {
   "cell_type": "code",
   "execution_count": 242,
   "id": "bca487c0",
   "metadata": {},
   "outputs": [
    {
     "name": "stdout",
     "output_type": "stream",
     "text": [
      "Accuracy Score of Estimator = 100 :  1.0\n",
      "Accuracy Score of Estimator =500 :  1.0\n",
      "Accuracy Score of Estimator = 1000 :  1.0\n",
      "Accuracy Score of Estimator = 1500 :  1.0\n"
     ]
    }
   ],
   "source": [
    "from sklearn.ensemble import RandomForestClassifier\n",
    "\n",
    "rf100 = RandomForestClassifier(n_estimators=100)\n",
    "rf100.fit(datainput_training1, datatarget_training1)\n",
    "output_predicted1 = rf100.predict(datainput_testing1)\n",
    "accuracy_100 = accuracy_score(datatarget_testing1,output_predicted1)\n",
    "print(\"Accuracy Score of Estimator = 100 : \", accuracy_100)\n",
    "\n",
    "rf500 = RandomForestClassifier(n_estimators=500)\n",
    "rf500.fit(datainput_training1, datatarget_training1)\n",
    "output_predicted1 = rf500.predict(datainput_testing1)\n",
    "accuracy_500 = accuracy_score(datatarget_testing1,output_predicted1)\n",
    "print(\"Accuracy Score of Estimator =500 : \", accuracy_500)\n",
    "\n",
    "rf1000 = RandomForestClassifier(n_estimators=1000)\n",
    "rf1000.fit(datainput_training1, datatarget_training1)\n",
    "output_predicted1 = rf1000.predict(datainput_testing1)\n",
    "accuracy_1000 = accuracy_score(datatarget_testing1,output_predicted1)\n",
    "print(\"Accuracy Score of Estimator = 1000 : \", accuracy_1000)\n",
    "\n",
    "rf1500 = RandomForestClassifier(n_estimators=1500)\n",
    "rf1500.fit(datainput_training1, datatarget_training1)\n",
    "output_predicted1 = rf1500.predict(datainput_testing1)\n",
    "accuracy_1500 = accuracy_score(datatarget_testing1,output_predicted1)\n",
    "print(\"Accuracy Score of Estimator = 1500 : \", accuracy_1500)\n"
   ]
  },
  {
   "cell_type": "code",
   "execution_count": 243,
   "id": "e93543d0",
   "metadata": {},
   "outputs": [],
   "source": [
    "# Extract features and target labels\n",
    "datainput = dataset.drop(['Soil Type', 'Crop Type', 'Fertilizer Name'], axis=1)\n",
    "\n",
    "datatarget = dataset['Fertilizer Name']\n",
    "\n",
    "datatarget\n",
    "\n",
    "datainput_training2 = datainput.drop(datainput.index[range(20,40)])\n",
    "datatarget_training2 = datatarget.drop(datainput.index[range(20,40)])\n",
    "datainput_testing2 = datainput[20:40]\n",
    "datatarget_testing2 = datatarget[20:40]"
   ]
  },
  {
   "cell_type": "markdown",
   "id": "5ca7f8fe",
   "metadata": {},
   "source": [
    "# KNN2"
   ]
  },
  {
   "cell_type": "code",
   "execution_count": 244,
   "id": "e3b78393",
   "metadata": {},
   "outputs": [
    {
     "name": "stdout",
     "output_type": "stream",
     "text": [
      "Accuracy Score of 10 KNN:  0.75\n",
      "Accuracy Score of 20 KNN:  0.85\n",
      "Accuracy Score of 30 KNN:  0.45\n"
     ]
    }
   ],
   "source": [
    "from sklearn.neighbors import KNeighborsClassifier\n",
    "from sklearn.metrics import accuracy_score\n",
    "\n",
    "knn_10 = KNeighborsClassifier(n_neighbors = 10)\n",
    "knn_10.fit(datainput_training2, datatarget_training2)\n",
    "output_predicted10 = knn_10.predict (datainput_testing2)\n",
    "accuracy_10 = accuracy_score(datatarget_testing2,output_predicted10)\n",
    "print(\"Accuracy Score of 10 KNN: \",accuracy_10)\n",
    "\n",
    "knn_20 = KNeighborsClassifier(n_neighbors = 20)\n",
    "knn_20.fit(datainput_training2, datatarget_training2)\n",
    "output_predicted20 = knn_20.predict (datainput_testing2)\n",
    "accuracy_20 = accuracy_score(datatarget_testing2,output_predicted20)\n",
    "print(\"Accuracy Score of 20 KNN: \",accuracy_20)\n",
    "\n",
    "knn_30 = KNeighborsClassifier(n_neighbors = 30)\n",
    "knn_30.fit(datainput_training2, datatarget_training2)\n",
    "output_predicted30 = knn_30.predict (datainput_testing2)\n",
    "accuracy_30 = accuracy_score(datatarget_testing2,output_predicted30)\n",
    "print(\"Accuracy Score of 30 KNN: \",accuracy_30)\n"
   ]
  },
  {
   "cell_type": "markdown",
   "id": "08f57930",
   "metadata": {},
   "source": [
    "# SVM2"
   ]
  },
  {
   "cell_type": "code",
   "execution_count": 245,
   "id": "a9ea2f39",
   "metadata": {},
   "outputs": [
    {
     "name": "stdout",
     "output_type": "stream",
     "text": [
      "Accuracy Score of Sigmoid 0.2\n",
      "Accuracy Score of Linear 1.0\n",
      "Accuracy Score of Poly 0.95\n",
      "Accuracy Score of RBF 0.9\n"
     ]
    }
   ],
   "source": [
    "from sklearn.svm import SVC\n",
    "\n",
    "svclassifierSig = SVC(kernel='sigmoid')\n",
    "svclassifierSig.fit(datainput_training2, datatarget_training2)\n",
    "output_predicted2 = svclassifierSig.predict(datainput_testing2)\n",
    "accuracy_Sig = accuracy_score(datatarget_testing2,output_predicted2)\n",
    "print(\"Accuracy Score of Sigmoid\", accuracy_Sig)\n",
    "\n",
    "svclassifierLin = SVC(kernel='linear')\n",
    "svclassifierLin.fit(datainput_training2, datatarget_training2)\n",
    "output_predicted2 = svclassifierLin.predict(datainput_testing2)\n",
    "accuracy_Lin = accuracy_score(datatarget_testing2,output_predicted2)\n",
    "print(\"Accuracy Score of Linear\", accuracy_Lin)\n",
    "\n",
    "svclassifierPol = SVC(kernel='poly')\n",
    "svclassifierPol.fit(datainput_training2, datatarget_training2)\n",
    "output_predicted2 = svclassifierPol.predict(datainput_testing2)\n",
    "accuracy_Pol = accuracy_score(datatarget_testing2,output_predicted2)\n",
    "print(\"Accuracy Score of Poly\", accuracy_Pol)\n",
    "\n",
    "svclassifierRbf = SVC(kernel='rbf')\n",
    "svclassifierRbf.fit(datainput_training2, datatarget_training2)\n",
    "output_predicted2 = svclassifierRbf.predict(datainput_testing2)\n",
    "accuracy_Rbf = accuracy_score(datatarget_testing2,output_predicted2)\n",
    "print(\"Accuracy Score of RBF\", accuracy_Rbf)\n"
   ]
  },
  {
   "cell_type": "markdown",
   "id": "f4f31b21",
   "metadata": {},
   "source": [
    "# RF2"
   ]
  },
  {
   "cell_type": "code",
   "execution_count": 246,
   "id": "40710eb5",
   "metadata": {},
   "outputs": [
    {
     "name": "stdout",
     "output_type": "stream",
     "text": [
      "Accuracy Score of Estimator = 100 :  1.0\n",
      "Accuracy Score of Estimator = 500 :  1.0\n",
      "Accuracy Score of Estimator = 1000 :  1.0\n",
      "Accuracy Score of Estimator = 1500 :  1.0\n"
     ]
    }
   ],
   "source": [
    "from sklearn.ensemble import RandomForestClassifier\n",
    "\n",
    "rf100 = RandomForestClassifier(n_estimators=100)\n",
    "rf100.fit(datainput_training2, datatarget_training2)\n",
    "output_predicted2 = rf100.predict(datainput_testing2)\n",
    "accuracy_100 = accuracy_score(datatarget_testing2,output_predicted2)\n",
    "print(\"Accuracy Score of Estimator = 100 : \", accuracy_100)\n",
    "\n",
    "rf500 = RandomForestClassifier(n_estimators=500)\n",
    "rf500.fit(datainput_training2, datatarget_training2)\n",
    "output_predicted2 = rf500.predict(datainput_testing2)\n",
    "accuracy_500 = accuracy_score(datatarget_testing2,output_predicted2)\n",
    "print(\"Accuracy Score of Estimator = 500 : \", accuracy_500)\n",
    "\n",
    "rf1000 = RandomForestClassifier(n_estimators=1000)\n",
    "rf1000.fit(datainput_training2, datatarget_training2)\n",
    "output_predicted2 = rf1000.predict(datainput_testing2)\n",
    "accuracy_1000 = accuracy_score(datatarget_testing2,output_predicted2)\n",
    "print(\"Accuracy Score of Estimator = 1000 : \", accuracy_1000)\n",
    "\n",
    "rf1500 = RandomForestClassifier(n_estimators=1500)\n",
    "rf1500.fit(datainput_training2, datatarget_training2)\n",
    "output_predicted2 = rf1500.predict(datainput_testing2)\n",
    "accuracy_1500 = accuracy_score(datatarget_testing2,output_predicted2)\n",
    "print(\"Accuracy Score of Estimator = 1500 : \", accuracy_1500)\n"
   ]
  },
  {
   "cell_type": "code",
   "execution_count": 247,
   "id": "fc9fcb64",
   "metadata": {},
   "outputs": [],
   "source": [
    "# Extract features and target labels\n",
    "datainput = dataset.drop(['Soil Type', 'Crop Type', 'Fertilizer Name'], axis=1)\n",
    "\n",
    "datatarget = dataset['Fertilizer Name']\n",
    "\n",
    "datatarget\n",
    "\n",
    "datainput_training3 = datainput.drop(datainput.index[range(40,60)])\n",
    "datatarget_training3 = datatarget.drop(datainput.index[range(40,60)])\n",
    "datainput_testing3 = datainput[40:60]\n",
    "datatarget_testing3 = datatarget[40:60]"
   ]
  },
  {
   "cell_type": "markdown",
   "id": "2e6cc1e5",
   "metadata": {},
   "source": [
    "# KNN3"
   ]
  },
  {
   "cell_type": "code",
   "execution_count": 248,
   "id": "fdc974b6",
   "metadata": {},
   "outputs": [
    {
     "name": "stdout",
     "output_type": "stream",
     "text": [
      "Accuracy Score of 10 KNN:  0.9\n",
      "Accuracy Score of 20 KNN:  0.65\n",
      "Accuracy Score of 30 KNN:  0.65\n"
     ]
    }
   ],
   "source": [
    "from sklearn.neighbors import KNeighborsClassifier\n",
    "from sklearn.metrics import accuracy_score\n",
    "\n",
    "knn_10 = KNeighborsClassifier(n_neighbors = 10)\n",
    "knn_10.fit(datainput_training3, datatarget_training3)\n",
    "output_predicted10 = knn_10.predict (datainput_testing3)\n",
    "accuracy_10 = accuracy_score(datatarget_testing3,output_predicted10)\n",
    "print(\"Accuracy Score of 10 KNN: \",accuracy_10)\n",
    "\n",
    "knn_20 = KNeighborsClassifier(n_neighbors = 20)\n",
    "knn_20.fit(datainput_training3, datatarget_training3)\n",
    "output_predicted20 = knn_20.predict (datainput_testing3)\n",
    "accuracy_20 = accuracy_score(datatarget_testing3,output_predicted20)\n",
    "print(\"Accuracy Score of 20 KNN: \",accuracy_20)\n",
    "\n",
    "knn_30 = KNeighborsClassifier(n_neighbors = 30)\n",
    "knn_30.fit(datainput_training3, datatarget_training3)\n",
    "output_predicted30 = knn_30.predict (datainput_testing3)\n",
    "accuracy_30 = accuracy_score(datatarget_testing3,output_predicted30)\n",
    "print(\"Accuracy Score of 30 KNN: \",accuracy_30)\n"
   ]
  },
  {
   "cell_type": "markdown",
   "id": "7c42a190",
   "metadata": {},
   "source": [
    "# SVM3"
   ]
  },
  {
   "cell_type": "code",
   "execution_count": 249,
   "id": "b10825d4",
   "metadata": {},
   "outputs": [
    {
     "name": "stdout",
     "output_type": "stream",
     "text": [
      "Accuracy Score of Sigmoid 0.2\n",
      "Accuracy Score of Linear 1.0\n",
      "Accuracy Score of Poly 1.0\n",
      "Accuracy Score of RBF 0.85\n"
     ]
    }
   ],
   "source": [
    "from sklearn.svm import SVC\n",
    "\n",
    "svclassifierSig = SVC(kernel='sigmoid')\n",
    "svclassifierSig.fit(datainput_training3, datatarget_training3)\n",
    "output_predicted3 = svclassifierSig.predict(datainput_testing3)\n",
    "accuracy_Sig = accuracy_score(datatarget_testing3,output_predicted3)\n",
    "print(\"Accuracy Score of Sigmoid\", accuracy_Sig)\n",
    "\n",
    "svclassifierLin = SVC(kernel='linear')\n",
    "svclassifierLin.fit(datainput_training3, datatarget_training3)\n",
    "output_predicted3 = svclassifierLin.predict(datainput_testing3)\n",
    "accuracy_Lin = accuracy_score(datatarget_testing3,output_predicted3)\n",
    "print(\"Accuracy Score of Linear\", accuracy_Lin)\n",
    "\n",
    "svclassifierPol = SVC(kernel='poly')\n",
    "svclassifierPol.fit(datainput_training3, datatarget_training3)\n",
    "output_predicted3 = svclassifierPol.predict(datainput_testing3)\n",
    "accuracy_Pol = accuracy_score(datatarget_testing3,output_predicted3)\n",
    "print(\"Accuracy Score of Poly\", accuracy_Pol)\n",
    "\n",
    "svclassifierRbf = SVC(kernel='rbf')\n",
    "svclassifierRbf.fit(datainput_training3, datatarget_training3)\n",
    "output_predicted3 = svclassifierRbf.predict(datainput_testing3)\n",
    "accuracy_Rbf = accuracy_score(datatarget_testing3,output_predicted3)\n",
    "print(\"Accuracy Score of RBF\", accuracy_Rbf)\n"
   ]
  },
  {
   "cell_type": "markdown",
   "id": "7362e092",
   "metadata": {},
   "source": [
    "# RF3"
   ]
  },
  {
   "cell_type": "code",
   "execution_count": 250,
   "id": "66e2eac5",
   "metadata": {},
   "outputs": [
    {
     "name": "stdout",
     "output_type": "stream",
     "text": [
      "Accuracy Score of Estimator = 100 :  1.0\n",
      "Accuracy Score of Estimator = 500 :  1.0\n",
      "Accuracy Score of Estimator = 1000 :  1.0\n",
      "Accuracy Score of Estimator = 1500 :  1.0\n"
     ]
    }
   ],
   "source": [
    "from sklearn.ensemble import RandomForestClassifier\n",
    "\n",
    "rf100 = RandomForestClassifier(n_estimators=100)\n",
    "rf100.fit(datainput_training3, datatarget_training3)\n",
    "output_predicted3 = rf100.predict(datainput_testing3)\n",
    "accuracy_100 = accuracy_score(datatarget_testing3,output_predicted3)\n",
    "print(\"Accuracy Score of Estimator = 100 : \", accuracy_100)\n",
    "\n",
    "rf500 = RandomForestClassifier(n_estimators=500)\n",
    "rf500.fit(datainput_training3, datatarget_training3)\n",
    "output_predicted3 = rf500.predict(datainput_testing3)\n",
    "accuracy_500 = accuracy_score(datatarget_testing3,output_predicted3)\n",
    "print(\"Accuracy Score of Estimator = 500 : \", accuracy_500)\n",
    "\n",
    "rf1000 = RandomForestClassifier(n_estimators=1000)\n",
    "rf1000.fit(datainput_training3, datatarget_training3)\n",
    "output_predicted3 = rf1000.predict(datainput_testing3)\n",
    "accuracy_1000 = accuracy_score(datatarget_testing3,output_predicted3)\n",
    "print(\"Accuracy Score of Estimator = 1000 : \", accuracy_1000)\n",
    "\n",
    "rf1500 = RandomForestClassifier(n_estimators=1500)\n",
    "rf1500.fit(datainput_training3, datatarget_training3)\n",
    "output_predicted3 = rf1500.predict(datainput_testing3)\n",
    "accuracy_1500 = accuracy_score(datatarget_testing3,output_predicted3)\n",
    "print(\"Accuracy Score of Estimator = 1500 : \", accuracy_1500)\n"
   ]
  },
  {
   "cell_type": "code",
   "execution_count": 251,
   "id": "ca3587f7",
   "metadata": {},
   "outputs": [],
   "source": [
    "# Extract features and target labels\n",
    "datainput = dataset.drop(['Soil Type', 'Crop Type', 'Fertilizer Name'], axis=1)\n",
    "\n",
    "datatarget = dataset['Fertilizer Name']\n",
    "\n",
    "datatarget\n",
    "\n",
    "datainput_training4 = datainput.drop(datainput.index[range(60,80)])\n",
    "datatarget_training4 = datatarget.drop(datainput.index[range(60,80)])\n",
    "datainput_testing4 = datainput[60:80]\n",
    "datatarget_testing4 = datatarget[60:80]"
   ]
  },
  {
   "cell_type": "markdown",
   "id": "2799908f",
   "metadata": {},
   "source": [
    "# KNN4"
   ]
  },
  {
   "cell_type": "code",
   "execution_count": 252,
   "id": "27d8850b",
   "metadata": {},
   "outputs": [
    {
     "name": "stdout",
     "output_type": "stream",
     "text": [
      "Accuracy Score of 10 KNN:  0.7\n",
      "Accuracy Score of 20 KNN:  0.7\n",
      "Accuracy Score of 30 KNN:  0.6\n"
     ]
    }
   ],
   "source": [
    "from sklearn.neighbors import KNeighborsClassifier\n",
    "from sklearn.metrics import accuracy_score\n",
    "\n",
    "knn_10 = KNeighborsClassifier(n_neighbors = 10)\n",
    "knn_10.fit(datainput_training4, datatarget_training4)\n",
    "output_predicted10 = knn_10.predict (datainput_testing4)\n",
    "accuracy_10 = accuracy_score(datatarget_testing4,output_predicted10)\n",
    "print(\"Accuracy Score of 10 KNN: \",accuracy_10)\n",
    "\n",
    "knn_20 = KNeighborsClassifier(n_neighbors = 20)\n",
    "knn_20.fit(datainput_training4, datatarget_training4)\n",
    "output_predicted20 = knn_20.predict (datainput_testing4)\n",
    "accuracy_20 = accuracy_score(datatarget_testing4,output_predicted20)\n",
    "print(\"Accuracy Score of 20 KNN: \",accuracy_20)\n",
    "\n",
    "knn_30 = KNeighborsClassifier(n_neighbors = 30)\n",
    "knn_30.fit(datainput_training4, datatarget_training4)\n",
    "output_predicted30 = knn_30.predict (datainput_testing4)\n",
    "accuracy_30 = accuracy_score(datatarget_testing4,output_predicted30)\n",
    "print(\"Accuracy Score of 30 KNN: \",accuracy_30)\n"
   ]
  },
  {
   "cell_type": "markdown",
   "id": "f3a5e031",
   "metadata": {},
   "source": [
    "# SVM4"
   ]
  },
  {
   "cell_type": "code",
   "execution_count": 253,
   "id": "e7a8adec",
   "metadata": {},
   "outputs": [
    {
     "name": "stdout",
     "output_type": "stream",
     "text": [
      "Accuracy Score of Sigmoid 0.2\n",
      "Accuracy Score of Linear 0.85\n",
      "Accuracy Score of Poly 0.85\n",
      "Accuracy Score of RBF 0.85\n"
     ]
    }
   ],
   "source": [
    "from sklearn.svm import SVC\n",
    "\n",
    "svclassifierSig = SVC(kernel='sigmoid')\n",
    "svclassifierSig.fit(datainput_training4, datatarget_training4)\n",
    "output_predicted4 = svclassifierSig.predict(datainput_testing4)\n",
    "accuracy_Sig = accuracy_score(datatarget_testing4,output_predicted4)\n",
    "print(\"Accuracy Score of Sigmoid\", accuracy_Sig)\n",
    "\n",
    "svclassifierLin = SVC(kernel='linear')\n",
    "svclassifierLin.fit(datainput_training4, datatarget_training4)\n",
    "output_predicted4 = svclassifierLin.predict(datainput_testing4)\n",
    "accuracy_Lin = accuracy_score(datatarget_testing4,output_predicted4)\n",
    "print(\"Accuracy Score of Linear\", accuracy_Lin)\n",
    "\n",
    "svclassifierPol = SVC(kernel='poly')\n",
    "svclassifierPol.fit(datainput_training4, datatarget_training4)\n",
    "output_predicted4 = svclassifierPol.predict(datainput_testing4)\n",
    "accuracy_Pol = accuracy_score(datatarget_testing4,output_predicted4)\n",
    "print(\"Accuracy Score of Poly\", accuracy_Pol)\n",
    "\n",
    "svclassifierRbf = SVC(kernel='rbf')\n",
    "svclassifierRbf.fit(datainput_training4, datatarget_training4)\n",
    "output_predicted4 = svclassifierRbf.predict(datainput_testing4)\n",
    "accuracy_Rbf = accuracy_score(datatarget_testing4,output_predicted4)\n",
    "print(\"Accuracy Score of RBF\", accuracy_Rbf)\n"
   ]
  },
  {
   "cell_type": "markdown",
   "id": "8d71c327",
   "metadata": {},
   "source": [
    "# RF4"
   ]
  },
  {
   "cell_type": "code",
   "execution_count": 254,
   "id": "9c500795",
   "metadata": {},
   "outputs": [
    {
     "name": "stdout",
     "output_type": "stream",
     "text": [
      "Accuracy Score of Estimator = 100 :  0.95\n",
      "Accuracy Score of Estimator = 500 :  1.0\n",
      "Accuracy Score of Estimator = 1000 :  1.0\n",
      "Accuracy Score of Estimator = 1500 :  1.0\n"
     ]
    }
   ],
   "source": [
    "from sklearn.ensemble import RandomForestClassifier\n",
    "\n",
    "rf100 = RandomForestClassifier(n_estimators=100)\n",
    "rf100.fit(datainput_training4, datatarget_training4)\n",
    "output_predicted4 = rf100.predict(datainput_testing4)\n",
    "accuracy_100 = accuracy_score(datatarget_testing4,output_predicted4)\n",
    "print(\"Accuracy Score of Estimator = 100 : \", accuracy_100)\n",
    "\n",
    "rf500 = RandomForestClassifier(n_estimators=500)\n",
    "rf500.fit(datainput_training4, datatarget_training4)\n",
    "output_predicted4 = rf500.predict(datainput_testing4)\n",
    "accuracy_500 = accuracy_score(datatarget_testing4,output_predicted4)\n",
    "print(\"Accuracy Score of Estimator = 500 : \", accuracy_500)\n",
    "\n",
    "rf1000 = RandomForestClassifier(n_estimators=1000)\n",
    "rf1000.fit(datainput_training4, datatarget_training4)\n",
    "output_predicted4 = rf1000.predict(datainput_testing4)\n",
    "accuracy_1000 = accuracy_score(datatarget_testing4,output_predicted4)\n",
    "print(\"Accuracy Score of Estimator = 1000 : \", accuracy_1000)\n",
    "\n",
    "rf1500 = RandomForestClassifier(n_estimators=1500)\n",
    "rf1500.fit(datainput_training4, datatarget_training4)\n",
    "output_predicted4 = rf1500.predict(datainput_testing4)\n",
    "accuracy_1500 = accuracy_score(datatarget_testing4,output_predicted4)\n",
    "print(\"Accuracy Score of Estimator = 1500 : \", accuracy_1500)\n"
   ]
  },
  {
   "cell_type": "code",
   "execution_count": 255,
   "id": "82ad3c23",
   "metadata": {},
   "outputs": [],
   "source": [
    "# Extract features and target labels\n",
    "datainput = dataset.drop(['Soil Type', 'Crop Type', 'Fertilizer Name'], axis=1)\n",
    "\n",
    "datatarget = dataset['Fertilizer Name']\n",
    "\n",
    "datatarget\n",
    "\n",
    "datainput_training5 = datainput.drop(datainput.index[range(80,99)])\n",
    "datatarget_training5 = datatarget.drop(datainput.index[range(80,99)])\n",
    "datainput_testing5 = datainput[80:99]\n",
    "datatarget_testing5 = datatarget[80:99]"
   ]
  },
  {
   "cell_type": "markdown",
   "id": "a8a51be9",
   "metadata": {},
   "source": [
    "# KNN5"
   ]
  },
  {
   "cell_type": "code",
   "execution_count": 256,
   "id": "c2e088eb",
   "metadata": {},
   "outputs": [
    {
     "name": "stdout",
     "output_type": "stream",
     "text": [
      "Accuracy Score of 10 KNN:  0.5789473684210527\n",
      "Accuracy Score of 20 KNN:  0.5263157894736842\n",
      "Accuracy Score of 30 KNN:  0.42105263157894735\n"
     ]
    }
   ],
   "source": [
    "from sklearn.neighbors import KNeighborsClassifier\n",
    "from sklearn.metrics import accuracy_score\n",
    "\n",
    "knn_10 = KNeighborsClassifier(n_neighbors = 10)\n",
    "knn_10.fit(datainput_training5, datatarget_training5)\n",
    "output_predicted10 = knn_10.predict (datainput_testing5)\n",
    "accuracy_10 = accuracy_score(datatarget_testing5,output_predicted10)\n",
    "print(\"Accuracy Score of 10 KNN: \",accuracy_10)\n",
    "\n",
    "knn_20 = KNeighborsClassifier(n_neighbors = 20)\n",
    "knn_20.fit(datainput_training5, datatarget_training5)\n",
    "output_predicted20 = knn_20.predict (datainput_testing5)\n",
    "accuracy_20 = accuracy_score(datatarget_testing5,output_predicted20)\n",
    "print(\"Accuracy Score of 20 KNN: \",accuracy_20)\n",
    "\n",
    "knn_30 = KNeighborsClassifier(n_neighbors = 30)\n",
    "knn_30.fit(datainput_training5, datatarget_training5)\n",
    "output_predicted30 = knn_30.predict (datainput_testing5)\n",
    "accuracy_30 = accuracy_score(datatarget_testing5,output_predicted30)\n",
    "print(\"Accuracy Score of 30 KNN: \",accuracy_30)\n"
   ]
  },
  {
   "cell_type": "markdown",
   "id": "a259f7f6",
   "metadata": {},
   "source": [
    "# SVM5"
   ]
  },
  {
   "cell_type": "code",
   "execution_count": 257,
   "id": "d91ba603",
   "metadata": {},
   "outputs": [
    {
     "name": "stdout",
     "output_type": "stream",
     "text": [
      "Accuracy Score of Sigmoid 0.21052631578947367\n",
      "Accuracy Score of Linear 0.8421052631578947\n",
      "Accuracy Score of Poly 0.7894736842105263\n",
      "Accuracy Score of RBF 0.5789473684210527\n"
     ]
    }
   ],
   "source": [
    "from sklearn.svm import SVC\n",
    "\n",
    "svclassifierSig = SVC(kernel='sigmoid')\n",
    "svclassifierSig.fit(datainput_training5, datatarget_training5)\n",
    "output_predicted5 = svclassifierSig.predict(datainput_testing5)\n",
    "accuracy_Sig = accuracy_score(datatarget_testing5,output_predicted5)\n",
    "print(\"Accuracy Score of Sigmoid\", accuracy_Sig)\n",
    "\n",
    "svclassifierLin = SVC(kernel='linear')\n",
    "svclassifierLin.fit(datainput_training5, datatarget_training5)\n",
    "output_predicted5 = svclassifierLin.predict(datainput_testing5)\n",
    "accuracy_Lin = accuracy_score(datatarget_testing5,output_predicted5)\n",
    "print(\"Accuracy Score of Linear\", accuracy_Lin)\n",
    "\n",
    "svclassifierPol = SVC(kernel='poly')\n",
    "svclassifierPol.fit(datainput_training5, datatarget_training5)\n",
    "output_predicted5 = svclassifierPol.predict(datainput_testing5)\n",
    "accuracy_Pol = accuracy_score(datatarget_testing5,output_predicted5)\n",
    "print(\"Accuracy Score of Poly\", accuracy_Pol)\n",
    "\n",
    "svclassifierRbf = SVC(kernel='rbf')\n",
    "svclassifierRbf.fit(datainput_training5, datatarget_training5)\n",
    "output_predicted5 = svclassifierRbf.predict(datainput_testing5)\n",
    "accuracy_Rbf = accuracy_score(datatarget_testing5,output_predicted5)\n",
    "print(\"Accuracy Score of RBF\", accuracy_Rbf)"
   ]
  },
  {
   "cell_type": "markdown",
   "id": "864838f0",
   "metadata": {},
   "source": [
    "# RF5"
   ]
  },
  {
   "cell_type": "code",
   "execution_count": 258,
   "id": "d63a2209",
   "metadata": {},
   "outputs": [
    {
     "name": "stdout",
     "output_type": "stream",
     "text": [
      "Accuracy Score of Estimator = 100 :  0.8947368421052632\n",
      "Accuracy Score of Estimator = 500 :  0.8421052631578947\n",
      "Accuracy Score of Estimator = 1000 :  0.8947368421052632\n",
      "Accuracy Score of Estimator = 1500 :  0.8947368421052632\n"
     ]
    }
   ],
   "source": [
    "from sklearn.ensemble import RandomForestClassifier\n",
    "\n",
    "rf100 = RandomForestClassifier(n_estimators=100)\n",
    "rf100.fit(datainput_training5, datatarget_training5)\n",
    "output_predicted5 = rf100.predict(datainput_testing5)\n",
    "accuracy_100 = accuracy_score(datatarget_testing5,output_predicted5)\n",
    "print(\"Accuracy Score of Estimator = 100 : \", accuracy_100)\n",
    "\n",
    "rf500 = RandomForestClassifier(n_estimators=500)\n",
    "rf500.fit(datainput_training5, datatarget_training5)\n",
    "output_predicted5 = rf500.predict(datainput_testing5)\n",
    "accuracy_500 = accuracy_score(datatarget_testing5,output_predicted5)\n",
    "print(\"Accuracy Score of Estimator = 500 : \", accuracy_500)\n",
    "\n",
    "rf1000 = RandomForestClassifier(n_estimators=1000)\n",
    "rf1000.fit(datainput_training5, datatarget_training5)\n",
    "output_predicted5 = rf1000.predict(datainput_testing5)\n",
    "accuracy_1000 = accuracy_score(datatarget_testing5,output_predicted5)\n",
    "print(\"Accuracy Score of Estimator = 1000 : \", accuracy_1000)\n",
    "\n",
    "rf1500 = RandomForestClassifier(n_estimators=1500)\n",
    "rf1500.fit(datainput_training5, datatarget_training5)\n",
    "output_predicted5 = rf1500.predict(datainput_testing5)\n",
    "accuracy_1500 = accuracy_score(datatarget_testing5,output_predicted5)\n",
    "print(\"Accuracy Score of Estimator = 1500 : \", accuracy_1500)\n"
   ]
  }
 ],
 "metadata": {
  "kernelspec": {
   "display_name": "Python 3 (ipykernel)",
   "language": "python",
   "name": "python3"
  },
  "language_info": {
   "codemirror_mode": {
    "name": "ipython",
    "version": 3
   },
   "file_extension": ".py",
   "mimetype": "text/x-python",
   "name": "python",
   "nbconvert_exporter": "python",
   "pygments_lexer": "ipython3",
   "version": "3.11.5"
  }
 },
 "nbformat": 4,
 "nbformat_minor": 5
}
