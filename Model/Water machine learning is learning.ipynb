{
 "cells": [
  {
   "cell_type": "code",
   "execution_count": 4,
   "id": "91805a5c",
   "metadata": {},
   "outputs": [
    {
     "data": {
      "text/plain": [
       "0       0\n",
       "1       1\n",
       "2       1\n",
       "3       0\n",
       "4       0\n",
       "       ..\n",
       "3271    0\n",
       "3272    0\n",
       "3273    0\n",
       "3274    0\n",
       "3275    0\n",
       "Name: Potability, Length: 3276, dtype: int64"
      ]
     },
     "execution_count": 4,
     "metadata": {},
     "output_type": "execute_result"
    }
   ],
   "source": [
    "#Water potability \n",
    "# data target: potability\n",
    "\n",
    "import pandas as pd\n",
    "water = pd.read_csv('water_potability.csv')\n",
    "\n",
    "water_input = water.drop(columns = ['Potability'])\n",
    "water_target = water['Potability']\n",
    "\n",
    "water_target"
   ]
  },
  {
   "cell_type": "code",
   "execution_count": 5,
   "id": "3c2567e8",
   "metadata": {},
   "outputs": [
    {
     "data": {
      "text/html": [
       "<div>\n",
       "<style scoped>\n",
       "    .dataframe tbody tr th:only-of-type {\n",
       "        vertical-align: middle;\n",
       "    }\n",
       "\n",
       "    .dataframe tbody tr th {\n",
       "        vertical-align: top;\n",
       "    }\n",
       "\n",
       "    .dataframe thead th {\n",
       "        text-align: right;\n",
       "    }\n",
       "</style>\n",
       "<table border=\"1\" class=\"dataframe\">\n",
       "  <thead>\n",
       "    <tr style=\"text-align: right;\">\n",
       "      <th></th>\n",
       "      <th>ph</th>\n",
       "      <th>Hardness</th>\n",
       "      <th>Solids</th>\n",
       "      <th>Chloramines</th>\n",
       "      <th>Sulfate</th>\n",
       "      <th>Conductivity</th>\n",
       "      <th>Organic_carbon</th>\n",
       "      <th>Trihalomethanes</th>\n",
       "      <th>Turbidity</th>\n",
       "    </tr>\n",
       "  </thead>\n",
       "  <tbody>\n",
       "    <tr>\n",
       "      <th>0</th>\n",
       "      <td>6.898341</td>\n",
       "      <td>187.415306</td>\n",
       "      <td>19024.48553</td>\n",
       "      <td>6.915070</td>\n",
       "      <td>333.775777</td>\n",
       "      <td>428.786976</td>\n",
       "      <td>12.580162</td>\n",
       "      <td>44.380210</td>\n",
       "      <td>5.371284</td>\n",
       "    </tr>\n",
       "    <tr>\n",
       "      <th>1</th>\n",
       "      <td>8.907987</td>\n",
       "      <td>202.461211</td>\n",
       "      <td>33653.76196</td>\n",
       "      <td>5.431879</td>\n",
       "      <td>330.827133</td>\n",
       "      <td>426.186565</td>\n",
       "      <td>18.759902</td>\n",
       "      <td>79.370621</td>\n",
       "      <td>4.641259</td>\n",
       "    </tr>\n",
       "    <tr>\n",
       "      <th>2</th>\n",
       "      <td>6.486153</td>\n",
       "      <td>224.809456</td>\n",
       "      <td>26807.11951</td>\n",
       "      <td>3.267984</td>\n",
       "      <td>319.074358</td>\n",
       "      <td>382.879844</td>\n",
       "      <td>10.665030</td>\n",
       "      <td>63.727693</td>\n",
       "      <td>3.246794</td>\n",
       "    </tr>\n",
       "    <tr>\n",
       "      <th>3</th>\n",
       "      <td>3.783044</td>\n",
       "      <td>157.852645</td>\n",
       "      <td>20384.77310</td>\n",
       "      <td>4.667082</td>\n",
       "      <td>300.048691</td>\n",
       "      <td>432.431822</td>\n",
       "      <td>12.701422</td>\n",
       "      <td>66.396293</td>\n",
       "      <td>4.402244</td>\n",
       "    </tr>\n",
       "    <tr>\n",
       "      <th>4</th>\n",
       "      <td>6.380717</td>\n",
       "      <td>266.015410</td>\n",
       "      <td>21250.93563</td>\n",
       "      <td>4.854335</td>\n",
       "      <td>357.241027</td>\n",
       "      <td>358.185473</td>\n",
       "      <td>27.006707</td>\n",
       "      <td>59.937785</td>\n",
       "      <td>4.532020</td>\n",
       "    </tr>\n",
       "    <tr>\n",
       "      <th>...</th>\n",
       "      <td>...</td>\n",
       "      <td>...</td>\n",
       "      <td>...</td>\n",
       "      <td>...</td>\n",
       "      <td>...</td>\n",
       "      <td>...</td>\n",
       "      <td>...</td>\n",
       "      <td>...</td>\n",
       "      <td>...</td>\n",
       "    </tr>\n",
       "    <tr>\n",
       "      <th>2615</th>\n",
       "      <td>7.623500</td>\n",
       "      <td>170.427572</td>\n",
       "      <td>36267.26666</td>\n",
       "      <td>6.040735</td>\n",
       "      <td>301.219091</td>\n",
       "      <td>404.501369</td>\n",
       "      <td>12.495658</td>\n",
       "      <td>79.946113</td>\n",
       "      <td>4.764995</td>\n",
       "    </tr>\n",
       "    <tr>\n",
       "      <th>2616</th>\n",
       "      <td>7.080795</td>\n",
       "      <td>190.779460</td>\n",
       "      <td>12224.31051</td>\n",
       "      <td>4.646211</td>\n",
       "      <td>308.564886</td>\n",
       "      <td>399.271359</td>\n",
       "      <td>11.876797</td>\n",
       "      <td>61.886636</td>\n",
       "      <td>3.463173</td>\n",
       "    </tr>\n",
       "    <tr>\n",
       "      <th>2617</th>\n",
       "      <td>7.080795</td>\n",
       "      <td>143.453731</td>\n",
       "      <td>19942.27322</td>\n",
       "      <td>5.890755</td>\n",
       "      <td>333.775777</td>\n",
       "      <td>427.130672</td>\n",
       "      <td>22.469892</td>\n",
       "      <td>53.124094</td>\n",
       "      <td>2.907564</td>\n",
       "    </tr>\n",
       "    <tr>\n",
       "      <th>2618</th>\n",
       "      <td>8.775486</td>\n",
       "      <td>157.354289</td>\n",
       "      <td>22113.39145</td>\n",
       "      <td>7.931503</td>\n",
       "      <td>304.807845</td>\n",
       "      <td>480.715208</td>\n",
       "      <td>15.692839</td>\n",
       "      <td>82.929345</td>\n",
       "      <td>4.393944</td>\n",
       "    </tr>\n",
       "    <tr>\n",
       "      <th>2619</th>\n",
       "      <td>6.565634</td>\n",
       "      <td>159.729363</td>\n",
       "      <td>19044.68007</td>\n",
       "      <td>6.693214</td>\n",
       "      <td>283.514672</td>\n",
       "      <td>393.625173</td>\n",
       "      <td>18.207137</td>\n",
       "      <td>67.054119</td>\n",
       "      <td>2.770948</td>\n",
       "    </tr>\n",
       "  </tbody>\n",
       "</table>\n",
       "<p>2620 rows × 9 columns</p>\n",
       "</div>"
      ],
      "text/plain": [
       "            ph    Hardness       Solids  Chloramines     Sulfate  \\\n",
       "0     6.898341  187.415306  19024.48553     6.915070  333.775777   \n",
       "1     8.907987  202.461211  33653.76196     5.431879  330.827133   \n",
       "2     6.486153  224.809456  26807.11951     3.267984  319.074358   \n",
       "3     3.783044  157.852645  20384.77310     4.667082  300.048691   \n",
       "4     6.380717  266.015410  21250.93563     4.854335  357.241027   \n",
       "...        ...         ...          ...          ...         ...   \n",
       "2615  7.623500  170.427572  36267.26666     6.040735  301.219091   \n",
       "2616  7.080795  190.779460  12224.31051     4.646211  308.564886   \n",
       "2617  7.080795  143.453731  19942.27322     5.890755  333.775777   \n",
       "2618  8.775486  157.354289  22113.39145     7.931503  304.807845   \n",
       "2619  6.565634  159.729363  19044.68007     6.693214  283.514672   \n",
       "\n",
       "      Conductivity  Organic_carbon  Trihalomethanes  Turbidity  \n",
       "0       428.786976       12.580162        44.380210   5.371284  \n",
       "1       426.186565       18.759902        79.370621   4.641259  \n",
       "2       382.879844       10.665030        63.727693   3.246794  \n",
       "3       432.431822       12.701422        66.396293   4.402244  \n",
       "4       358.185473       27.006707        59.937785   4.532020  \n",
       "...            ...             ...              ...        ...  \n",
       "2615    404.501369       12.495658        79.946113   4.764995  \n",
       "2616    399.271359       11.876797        61.886636   3.463173  \n",
       "2617    427.130672       22.469892        53.124094   2.907564  \n",
       "2618    480.715208       15.692839        82.929345   4.393944  \n",
       "2619    393.625173       18.207137        67.054119   2.770948  \n",
       "\n",
       "[2620 rows x 9 columns]"
      ]
     },
     "execution_count": 5,
     "metadata": {},
     "output_type": "execute_result"
    }
   ],
   "source": [
    "\n",
    "rows = 3276\n",
    "train = int(0.8*3276)\n",
    "\n",
    "# 80% data training\n",
    "water_input_train = water_input[:train]\n",
    "water_target_train = water_target[:train]\n",
    "\n",
    "# 20% data testing\n",
    "water_input_test = water_input[train:]\n",
    "water_target_test = water_target[train:]\n",
    "\n",
    "\n",
    "water_input_train\n"
   ]
  },
  {
   "cell_type": "code",
   "execution_count": 11,
   "id": "bbb3881c",
   "metadata": {},
   "outputs": [
    {
     "data": {
      "text/html": [
       "<style>#sk-container-id-2 {color: black;}#sk-container-id-2 pre{padding: 0;}#sk-container-id-2 div.sk-toggleable {background-color: white;}#sk-container-id-2 label.sk-toggleable__label {cursor: pointer;display: block;width: 100%;margin-bottom: 0;padding: 0.3em;box-sizing: border-box;text-align: center;}#sk-container-id-2 label.sk-toggleable__label-arrow:before {content: \"▸\";float: left;margin-right: 0.25em;color: #696969;}#sk-container-id-2 label.sk-toggleable__label-arrow:hover:before {color: black;}#sk-container-id-2 div.sk-estimator:hover label.sk-toggleable__label-arrow:before {color: black;}#sk-container-id-2 div.sk-toggleable__content {max-height: 0;max-width: 0;overflow: hidden;text-align: left;background-color: #f0f8ff;}#sk-container-id-2 div.sk-toggleable__content pre {margin: 0.2em;color: black;border-radius: 0.25em;background-color: #f0f8ff;}#sk-container-id-2 input.sk-toggleable__control:checked~div.sk-toggleable__content {max-height: 200px;max-width: 100%;overflow: auto;}#sk-container-id-2 input.sk-toggleable__control:checked~label.sk-toggleable__label-arrow:before {content: \"▾\";}#sk-container-id-2 div.sk-estimator input.sk-toggleable__control:checked~label.sk-toggleable__label {background-color: #d4ebff;}#sk-container-id-2 div.sk-label input.sk-toggleable__control:checked~label.sk-toggleable__label {background-color: #d4ebff;}#sk-container-id-2 input.sk-hidden--visually {border: 0;clip: rect(1px 1px 1px 1px);clip: rect(1px, 1px, 1px, 1px);height: 1px;margin: -1px;overflow: hidden;padding: 0;position: absolute;width: 1px;}#sk-container-id-2 div.sk-estimator {font-family: monospace;background-color: #f0f8ff;border: 1px dotted black;border-radius: 0.25em;box-sizing: border-box;margin-bottom: 0.5em;}#sk-container-id-2 div.sk-estimator:hover {background-color: #d4ebff;}#sk-container-id-2 div.sk-parallel-item::after {content: \"\";width: 100%;border-bottom: 1px solid gray;flex-grow: 1;}#sk-container-id-2 div.sk-label:hover label.sk-toggleable__label {background-color: #d4ebff;}#sk-container-id-2 div.sk-serial::before {content: \"\";position: absolute;border-left: 1px solid gray;box-sizing: border-box;top: 0;bottom: 0;left: 50%;z-index: 0;}#sk-container-id-2 div.sk-serial {display: flex;flex-direction: column;align-items: center;background-color: white;padding-right: 0.2em;padding-left: 0.2em;position: relative;}#sk-container-id-2 div.sk-item {position: relative;z-index: 1;}#sk-container-id-2 div.sk-parallel {display: flex;align-items: stretch;justify-content: center;background-color: white;position: relative;}#sk-container-id-2 div.sk-item::before, #sk-container-id-2 div.sk-parallel-item::before {content: \"\";position: absolute;border-left: 1px solid gray;box-sizing: border-box;top: 0;bottom: 0;left: 50%;z-index: -1;}#sk-container-id-2 div.sk-parallel-item {display: flex;flex-direction: column;z-index: 1;position: relative;background-color: white;}#sk-container-id-2 div.sk-parallel-item:first-child::after {align-self: flex-end;width: 50%;}#sk-container-id-2 div.sk-parallel-item:last-child::after {align-self: flex-start;width: 50%;}#sk-container-id-2 div.sk-parallel-item:only-child::after {width: 0;}#sk-container-id-2 div.sk-dashed-wrapped {border: 1px dashed gray;margin: 0 0.4em 0.5em 0.4em;box-sizing: border-box;padding-bottom: 0.4em;background-color: white;}#sk-container-id-2 div.sk-label label {font-family: monospace;font-weight: bold;display: inline-block;line-height: 1.2em;}#sk-container-id-2 div.sk-label-container {text-align: center;}#sk-container-id-2 div.sk-container {/* jupyter's `normalize.less` sets `[hidden] { display: none; }` but bootstrap.min.css set `[hidden] { display: none !important; }` so we also need the `!important` here to be able to override the default hidden behavior on the sphinx rendered scikit-learn.org. See: https://github.com/scikit-learn/scikit-learn/issues/21755 */display: inline-block !important;position: relative;}#sk-container-id-2 div.sk-text-repr-fallback {display: none;}</style><div id=\"sk-container-id-2\" class=\"sk-top-container\"><div class=\"sk-text-repr-fallback\"><pre>SVC()</pre><b>In a Jupyter environment, please rerun this cell to show the HTML representation or trust the notebook. <br />On GitHub, the HTML representation is unable to render, please try loading this page with nbviewer.org.</b></div><div class=\"sk-container\" hidden><div class=\"sk-item\"><div class=\"sk-estimator sk-toggleable\"><input class=\"sk-toggleable__control sk-hidden--visually\" id=\"sk-estimator-id-2\" type=\"checkbox\" checked><label for=\"sk-estimator-id-2\" class=\"sk-toggleable__label sk-toggleable__label-arrow\">SVC</label><div class=\"sk-toggleable__content\"><pre>SVC()</pre></div></div></div></div></div>"
      ],
      "text/plain": [
       "SVC()"
      ]
     },
     "execution_count": 11,
     "metadata": {},
     "output_type": "execute_result"
    }
   ],
   "source": [
    "from sklearn.svm import SVC\n",
    "\n",
    "svLinear = SVC(kernel='linear')\n",
    "svLinear.fit(water_input_train,water_target_train)\n",
    "svPolynomial = SVC(kernel='poly')\n",
    "svPolynomial.fit(water_input_train, water_target_train)\n",
    "svSigmoid = SVC(kernel='sigmoid')\n",
    "svSigmoid.fit(water_input_train,water_target_train)\n",
    "svRBF= SVC(kernel = 'rbf')\n",
    "svRBF.fit(water_input_train, water_target_train)"
   ]
  },
  {
   "cell_type": "code",
   "execution_count": 17,
   "id": "adb3b28a",
   "metadata": {},
   "outputs": [],
   "source": [
    "linearPred = svLinear.predict(water_input_test)\n",
    "polyPred = svPolynomial.predict(water_input_test)\n",
    "sigPred = svSigmoid.predict(water_input_test)\n",
    "RBFPred = svRBF.predict(water_input_test)\n",
    "\n"
   ]
  },
  {
   "cell_type": "code",
   "execution_count": 13,
   "id": "e61307d1",
   "metadata": {},
   "outputs": [
    {
     "name": "stdout",
     "output_type": "stream",
     "text": [
      "[[403   6]\n",
      " [242   5]]\n",
      "              precision    recall  f1-score   support\n",
      "\n",
      "           0       0.62      0.99      0.76       409\n",
      "           1       0.45      0.02      0.04       247\n",
      "\n",
      "    accuracy                           0.62       656\n",
      "   macro avg       0.54      0.50      0.40       656\n",
      "weighted avg       0.56      0.62      0.49       656\n",
      "\n"
     ]
    }
   ],
   "source": [
    "#Confusion matrix for SVM\n",
    "#Linear\n",
    "from sklearn.metrics import classification_report, confusion_matrix \n",
    "print(confusion_matrix(water_target_test,linearPred))\n",
    "print(classification_report(water_target_test,linearPred))"
   ]
  },
  {
   "cell_type": "code",
   "execution_count": 14,
   "id": "0279f076",
   "metadata": {},
   "outputs": [
    {
     "name": "stdout",
     "output_type": "stream",
     "text": [
      "[[409   0]\n",
      " [247   0]]\n",
      "              precision    recall  f1-score   support\n",
      "\n",
      "           0       0.62      1.00      0.77       409\n",
      "           1       0.00      0.00      0.00       247\n",
      "\n",
      "    accuracy                           0.62       656\n",
      "   macro avg       0.31      0.50      0.38       656\n",
      "weighted avg       0.39      0.62      0.48       656\n",
      "\n"
     ]
    },
    {
     "name": "stderr",
     "output_type": "stream",
     "text": [
      "C:\\Users\\alifs\\anaconda3\\Lib\\site-packages\\sklearn\\metrics\\_classification.py:1469: UndefinedMetricWarning: Precision and F-score are ill-defined and being set to 0.0 in labels with no predicted samples. Use `zero_division` parameter to control this behavior.\n",
      "  _warn_prf(average, modifier, msg_start, len(result))\n",
      "C:\\Users\\alifs\\anaconda3\\Lib\\site-packages\\sklearn\\metrics\\_classification.py:1469: UndefinedMetricWarning: Precision and F-score are ill-defined and being set to 0.0 in labels with no predicted samples. Use `zero_division` parameter to control this behavior.\n",
      "  _warn_prf(average, modifier, msg_start, len(result))\n",
      "C:\\Users\\alifs\\anaconda3\\Lib\\site-packages\\sklearn\\metrics\\_classification.py:1469: UndefinedMetricWarning: Precision and F-score are ill-defined and being set to 0.0 in labels with no predicted samples. Use `zero_division` parameter to control this behavior.\n",
      "  _warn_prf(average, modifier, msg_start, len(result))\n"
     ]
    }
   ],
   "source": [
    "#Polynomial\n",
    "print(confusion_matrix(water_target_test,polyPred))\n",
    "print(classification_report(water_target_test,polyPred))"
   ]
  },
  {
   "cell_type": "code",
   "execution_count": 15,
   "id": "da16a62a",
   "metadata": {},
   "outputs": [
    {
     "name": "stdout",
     "output_type": "stream",
     "text": [
      "[[246 163]\n",
      " [144 103]]\n",
      "              precision    recall  f1-score   support\n",
      "\n",
      "           0       0.63      0.60      0.62       409\n",
      "           1       0.39      0.42      0.40       247\n",
      "\n",
      "    accuracy                           0.53       656\n",
      "   macro avg       0.51      0.51      0.51       656\n",
      "weighted avg       0.54      0.53      0.54       656\n",
      "\n"
     ]
    }
   ],
   "source": [
    "#Sigmoid\n",
    "print(confusion_matrix(water_target_test,sigPred))\n",
    "print(classification_report(water_target_test,sigPred))"
   ]
  },
  {
   "cell_type": "code",
   "execution_count": 18,
   "id": "2496026f",
   "metadata": {},
   "outputs": [
    {
     "name": "stdout",
     "output_type": "stream",
     "text": [
      "[[409   0]\n",
      " [247   0]]\n",
      "              precision    recall  f1-score   support\n",
      "\n",
      "           0       0.62      1.00      0.77       409\n",
      "           1       0.00      0.00      0.00       247\n",
      "\n",
      "    accuracy                           0.62       656\n",
      "   macro avg       0.31      0.50      0.38       656\n",
      "weighted avg       0.39      0.62      0.48       656\n",
      "\n"
     ]
    },
    {
     "name": "stderr",
     "output_type": "stream",
     "text": [
      "C:\\Users\\alifs\\anaconda3\\Lib\\site-packages\\sklearn\\metrics\\_classification.py:1469: UndefinedMetricWarning: Precision and F-score are ill-defined and being set to 0.0 in labels with no predicted samples. Use `zero_division` parameter to control this behavior.\n",
      "  _warn_prf(average, modifier, msg_start, len(result))\n",
      "C:\\Users\\alifs\\anaconda3\\Lib\\site-packages\\sklearn\\metrics\\_classification.py:1469: UndefinedMetricWarning: Precision and F-score are ill-defined and being set to 0.0 in labels with no predicted samples. Use `zero_division` parameter to control this behavior.\n",
      "  _warn_prf(average, modifier, msg_start, len(result))\n",
      "C:\\Users\\alifs\\anaconda3\\Lib\\site-packages\\sklearn\\metrics\\_classification.py:1469: UndefinedMetricWarning: Precision and F-score are ill-defined and being set to 0.0 in labels with no predicted samples. Use `zero_division` parameter to control this behavior.\n",
      "  _warn_prf(average, modifier, msg_start, len(result))\n"
     ]
    }
   ],
   "source": [
    "#RBF\n",
    "print(confusion_matrix(water_target_test,RBFPred))\n",
    "print(classification_report(water_target_test,RBFPred))"
   ]
  },
  {
   "cell_type": "code",
   "execution_count": 22,
   "id": "63c227b4",
   "metadata": {},
   "outputs": [
    {
     "name": "stdout",
     "output_type": "stream",
     "text": [
      "[[307 102]\n",
      " [180  67]]\n",
      "              precision    recall  f1-score   support\n",
      "\n",
      "           0       0.63      0.75      0.69       409\n",
      "           1       0.40      0.27      0.32       247\n",
      "\n",
      "    accuracy                           0.57       656\n",
      "   macro avg       0.51      0.51      0.50       656\n",
      "weighted avg       0.54      0.57      0.55       656\n",
      "\n"
     ]
    }
   ],
   "source": [
    "#KNN model\n",
    "# KNN5\n",
    "from sklearn.neighbors import KNeighborsClassifier\n",
    "knn5 = KNeighborsClassifier(n_neighbors=5)\n",
    "knn5.fit(water_input_train,water_target_train)\n",
    "knn5Pred = knn5.predict(water_input_test)\n",
    "print(confusion_matrix(water_target_test,knn5Pred))\n",
    "print(classification_report(water_target_test,knn5Pred))"
   ]
  },
  {
   "cell_type": "code",
   "execution_count": 23,
   "id": "ed2dce1d",
   "metadata": {},
   "outputs": [
    {
     "name": "stdout",
     "output_type": "stream",
     "text": [
      "[[367  42]\n",
      " [215  32]]\n",
      "              precision    recall  f1-score   support\n",
      "\n",
      "           0       0.63      0.90      0.74       409\n",
      "           1       0.43      0.13      0.20       247\n",
      "\n",
      "    accuracy                           0.61       656\n",
      "   macro avg       0.53      0.51      0.47       656\n",
      "weighted avg       0.56      0.61      0.54       656\n",
      "\n"
     ]
    }
   ],
   "source": [
    "knn25 = KNeighborsClassifier(n_neighbors=25)\n",
    "knn25.fit(water_input_train,water_target_train)\n",
    "knn25Pred = knn25.predict(water_input_test)\n",
    "print(confusion_matrix(water_target_test,knn25Pred))\n",
    "print(classification_report(water_target_test,knn25Pred))"
   ]
  },
  {
   "cell_type": "code",
   "execution_count": 24,
   "id": "13b14896",
   "metadata": {},
   "outputs": [
    {
     "name": "stdout",
     "output_type": "stream",
     "text": [
      "[[388  21]\n",
      " [233  14]]\n",
      "              precision    recall  f1-score   support\n",
      "\n",
      "           0       0.62      0.95      0.75       409\n",
      "           1       0.40      0.06      0.10       247\n",
      "\n",
      "    accuracy                           0.61       656\n",
      "   macro avg       0.51      0.50      0.43       656\n",
      "weighted avg       0.54      0.61      0.51       656\n",
      "\n"
     ]
    }
   ],
   "source": [
    "knn50 = KNeighborsClassifier(n_neighbors=50)\n",
    "knn50.fit(water_input_train,water_target_train)\n",
    "knn50Pred = knn50.predict(water_input_test)\n",
    "print(confusion_matrix(water_target_test,knn50Pred))\n",
    "print(classification_report(water_target_test,knn50Pred))"
   ]
  },
  {
   "cell_type": "code",
   "execution_count": 25,
   "id": "e227b340",
   "metadata": {},
   "outputs": [
    {
     "name": "stdout",
     "output_type": "stream",
     "text": [
      "[[394  15]\n",
      " [240   7]]\n",
      "              precision    recall  f1-score   support\n",
      "\n",
      "           0       0.62      0.96      0.76       409\n",
      "           1       0.32      0.03      0.05       247\n",
      "\n",
      "    accuracy                           0.61       656\n",
      "   macro avg       0.47      0.50      0.40       656\n",
      "weighted avg       0.51      0.61      0.49       656\n",
      "\n"
     ]
    }
   ],
   "source": [
    "knn100 = KNeighborsClassifier(n_neighbors=100)\n",
    "knn100.fit(water_input_train,water_target_train)\n",
    "knn100Pred = knn100.predict(water_input_test)\n",
    "print(confusion_matrix(water_target_test,knn100Pred))\n",
    "print(classification_report(water_target_test,knn100Pred))"
   ]
  },
  {
   "cell_type": "code",
   "execution_count": 26,
   "id": "148ad5c6",
   "metadata": {},
   "outputs": [
    {
     "name": "stdout",
     "output_type": "stream",
     "text": [
      "[[267 142]\n",
      " [112 135]]\n",
      "              precision    recall  f1-score   support\n",
      "\n",
      "           0       0.70      0.65      0.68       409\n",
      "           1       0.49      0.55      0.52       247\n",
      "\n",
      "    accuracy                           0.61       656\n",
      "   macro avg       0.60      0.60      0.60       656\n",
      "weighted avg       0.62      0.61      0.62       656\n",
      "\n"
     ]
    }
   ],
   "source": [
    "#Decision Tree\n",
    "from sklearn.tree import DecisionTreeClassifier\n",
    "DT = DecisionTreeClassifier()\n",
    "DT = DT.fit(water_input_train,water_target_train)\n",
    "DTPred = DT.predict(water_input_test)\n",
    "print(confusion_matrix(water_target_test,DTPred))\n",
    "print(classification_report(water_target_test,DTPred))"
   ]
  },
  {
   "cell_type": "code",
   "execution_count": null,
   "id": "b83b1399",
   "metadata": {},
   "outputs": [],
   "source": []
  }
 ],
 "metadata": {
  "kernelspec": {
   "display_name": "Python 3 (ipykernel)",
   "language": "python",
   "name": "python3"
  },
  "language_info": {
   "codemirror_mode": {
    "name": "ipython",
    "version": 3
   },
   "file_extension": ".py",
   "mimetype": "text/x-python",
   "name": "python",
   "nbconvert_exporter": "python",
   "pygments_lexer": "ipython3",
   "version": "3.11.5"
  }
 },
 "nbformat": 4,
 "nbformat_minor": 5
}
